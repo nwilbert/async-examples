{
 "metadata": {
  "name": "",
  "signature": "sha256:a6445a74a8c43f626f1925e9265ace5b34db0ddf0a722210ed4bb0163db5aad5"
 },
 "nbformat": 3,
 "nbformat_minor": 0,
 "worksheets": [
  {
   "cells": [
    {
     "cell_type": "markdown",
     "metadata": {},
     "source": [
      "This is code for Python versions >= 3.3."
     ]
    },
    {
     "cell_type": "heading",
     "level": 1,
     "metadata": {},
     "source": [
      "Iterables and Iterators in Python"
     ]
    },
    {
     "cell_type": "heading",
     "level": 2,
     "metadata": {},
     "source": [
      "Iterators"
     ]
    },
    {
     "cell_type": "markdown",
     "metadata": {},
     "source": [
      "*Iterator* objects in Python provide a `__next__` method. If the iteration has reached the end this is signaled by raising a `StopIteration` exception."
     ]
    },
    {
     "cell_type": "code",
     "collapsed": false,
     "input": [
      "class TestIterator:\n",
      "    \n",
      "    def __init__(self, max_value):\n",
      "        self._current_value = 0\n",
      "        self._max_value = max_value\n",
      "    \n",
      "    def __next__(self):\n",
      "        self._current_value += 1\n",
      "        if self._current_value > self._max_value:\n",
      "            raise StopIteration()\n",
      "        return self._current_value"
     ],
     "language": "python",
     "metadata": {},
     "outputs": [],
     "prompt_number": 1
    },
    {
     "cell_type": "markdown",
     "metadata": {},
     "source": [
      "When you perform the iteration manually you should use the builtin `next` function to call the *magic* `__next__` method."
     ]
    },
    {
     "cell_type": "code",
     "collapsed": false,
     "input": [
      "iterator = TestIterator(3)\n",
      "try:\n",
      "    while True:\n",
      "        print(next(iterator))\n",
      "except StopIteration:\n",
      "    pass"
     ],
     "language": "python",
     "metadata": {},
     "outputs": [
      {
       "output_type": "stream",
       "stream": "stdout",
       "text": [
        "1\n",
        "2\n",
        "3\n"
       ]
      }
     ],
     "prompt_number": 2
    },
    {
     "cell_type": "markdown",
     "metadata": {},
     "source": [
      "Of course you can also use a standard for-loop. However, the for-loop actually expects to be given a so called *iterable* object, not an *iterator*."
     ]
    },
    {
     "cell_type": "code",
     "collapsed": false,
     "input": [
      "for i in TestIterator(3):\n",
      "    print(i)"
     ],
     "language": "python",
     "metadata": {},
     "outputs": [
      {
       "ename": "TypeError",
       "evalue": "'TestIterator' object is not iterable",
       "output_type": "pyerr",
       "traceback": [
        "\u001b[0;31m---------------------------------------------------------------------------\u001b[0m\n\u001b[0;31mTypeError\u001b[0m                                 Traceback (most recent call last)",
        "\u001b[0;32m<ipython-input-3-f0bcb3795080>\u001b[0m in \u001b[0;36m<module>\u001b[0;34m()\u001b[0m\n\u001b[0;32m----> 1\u001b[0;31m \u001b[0;32mfor\u001b[0m \u001b[0mi\u001b[0m \u001b[0;32min\u001b[0m \u001b[0mTestIterator\u001b[0m\u001b[0;34m(\u001b[0m\u001b[0;36m3\u001b[0m\u001b[0;34m)\u001b[0m\u001b[0;34m:\u001b[0m\u001b[0;34m\u001b[0m\u001b[0m\n\u001b[0m\u001b[1;32m      2\u001b[0m     \u001b[0mprint\u001b[0m\u001b[0;34m(\u001b[0m\u001b[0mi\u001b[0m\u001b[0;34m)\u001b[0m\u001b[0;34m\u001b[0m\u001b[0m\n",
        "\u001b[0;31mTypeError\u001b[0m: 'TestIterator' object is not iterable"
       ]
      }
     ],
     "prompt_number": 3
    },
    {
     "cell_type": "markdown",
     "metadata": {},
     "source": [
      "The same is the case for list constructors."
     ]
    },
    {
     "cell_type": "code",
     "collapsed": false,
     "input": [
      "list(TestIterator(3))"
     ],
     "language": "python",
     "metadata": {},
     "outputs": [
      {
       "ename": "TypeError",
       "evalue": "'TestIterator' object is not iterable",
       "output_type": "pyerr",
       "traceback": [
        "\u001b[0;31m---------------------------------------------------------------------------\u001b[0m\n\u001b[0;31mTypeError\u001b[0m                                 Traceback (most recent call last)",
        "\u001b[0;32m<ipython-input-4-83ca34441b54>\u001b[0m in \u001b[0;36m<module>\u001b[0;34m()\u001b[0m\n\u001b[0;32m----> 1\u001b[0;31m \u001b[0mlist\u001b[0m\u001b[0;34m(\u001b[0m\u001b[0mTestIterator\u001b[0m\u001b[0;34m(\u001b[0m\u001b[0;36m3\u001b[0m\u001b[0;34m)\u001b[0m\u001b[0;34m)\u001b[0m\u001b[0;34m\u001b[0m\u001b[0m\n\u001b[0m",
        "\u001b[0;31mTypeError\u001b[0m: 'TestIterator' object is not iterable"
       ]
      }
     ],
     "prompt_number": 4
    },
    {
     "cell_type": "heading",
     "level": 2,
     "metadata": {},
     "source": [
      "Iterables"
     ]
    },
    {
     "cell_type": "markdown",
     "metadata": {},
     "source": [
      "*Iterables* are defined by having an `__iter__` method that return an iterator."
     ]
    },
    {
     "cell_type": "code",
     "collapsed": false,
     "input": [
      "class TestIterable:\n",
      "    \n",
      "    def __init__(self, max_value):\n",
      "        self._max_value = max_value\n",
      "        \n",
      "    def __iter__(self):\n",
      "        return TestIterator(self._max_value)"
     ],
     "language": "python",
     "metadata": {},
     "outputs": [],
     "prompt_number": 5
    },
    {
     "cell_type": "markdown",
     "metadata": {},
     "source": [
      "Now we can finally use the standard for-loop:"
     ]
    },
    {
     "cell_type": "code",
     "collapsed": false,
     "input": [
      "for i in TestIterable(3):\n",
      "    print(i)"
     ],
     "language": "python",
     "metadata": {},
     "outputs": [
      {
       "output_type": "stream",
       "stream": "stdout",
       "text": [
        "1\n",
        "2\n",
        "3\n"
       ]
      }
     ],
     "prompt_number": 6
    },
    {
     "cell_type": "markdown",
     "metadata": {},
     "source": [
      "This is convenient, because all the standard container classes are iterable. So you can directly put them into a for-loop or list constructor, without first having to manually create an iterator first."
     ]
    },
    {
     "cell_type": "code",
     "collapsed": false,
     "input": [
      "for i in [1, 2, 3]:\n",
      "    print(i)"
     ],
     "language": "python",
     "metadata": {},
     "outputs": [
      {
       "output_type": "stream",
       "stream": "stdout",
       "text": [
        "1\n",
        "2\n",
        "3\n"
       ]
      }
     ],
     "prompt_number": 7
    },
    {
     "cell_type": "markdown",
     "metadata": {},
     "source": [
      "Usually on etherefore does not have to use the `__iter__` method manually. But if you do, use the builtin `iter` function instead."
     ]
    },
    {
     "cell_type": "code",
     "collapsed": false,
     "input": [
      "test_iterable = TestIterable(3)\n",
      "test_iterator = iter(test_iterable)\n",
      "print(test_iterable)"
     ],
     "language": "python",
     "metadata": {},
     "outputs": [
      {
       "output_type": "stream",
       "stream": "stdout",
       "text": [
        "<__main__.TestIterable object at 0x105f7b780>\n"
       ]
      }
     ],
     "prompt_number": 8
    },
    {
     "cell_type": "markdown",
     "metadata": {},
     "source": [
      "It would be anoying (and quite surprising) to not be able to use *iterators* with for-loops. Therefore iterators in Python must include an `__iter__` method as well, returning the iterator itself."
     ]
    },
    {
     "cell_type": "code",
     "collapsed": false,
     "input": [
      "class RealTestIterator(TestIterator):\n",
      "    \n",
      "    def __iter__(self):\n",
      "        return self"
     ],
     "language": "python",
     "metadata": {},
     "outputs": [],
     "prompt_number": 9
    },
    {
     "cell_type": "markdown",
     "metadata": {},
     "source": [
      "We can now use this iterator as expected. When the for-loop applies the `iter` function this works and has no effect on the iterator."
     ]
    },
    {
     "cell_type": "code",
     "collapsed": false,
     "input": [
      "for i in RealTestIterator(3):\n",
      "    print(i)"
     ],
     "language": "python",
     "metadata": {},
     "outputs": [
      {
       "output_type": "stream",
       "stream": "stdout",
       "text": [
        "1\n",
        "2\n",
        "3\n"
       ]
      }
     ],
     "prompt_number": 10
    },
    {
     "cell_type": "markdown",
     "metadata": {},
     "source": [
      "But there is an important semantic difference between the `__iter__` of iterables and iterators: iterables provide a fresh iterator object on each call and can therefore be iterated over multiple times. Iterators on the other hand are spent after the first iteration."
     ]
    },
    {
     "cell_type": "code",
     "collapsed": false,
     "input": [
      "iterator = RealTestIterator(3)\n",
      "for i in iterator:\n",
      "    print(i)\n",
      "for i in iterator:\n",
      "    # iterator directly raises StopIteration, so this is never reached\n",
      "    print(i)"
     ],
     "language": "python",
     "metadata": {},
     "outputs": [
      {
       "output_type": "stream",
       "stream": "stdout",
       "text": [
        "1\n",
        "2\n",
        "3\n"
       ]
      }
     ],
     "prompt_number": 11
    },
    {
     "cell_type": "markdown",
     "metadata": {},
     "source": [
      "This can cause subtle bugs and is actually a nice example for the pitfalls of duck typing. One possible way to safeguard against this is by testing the semantics of `__iter__`:"
     ]
    },
    {
     "cell_type": "code",
     "collapsed": false,
     "input": [
      "def is_iterator(it):\n",
      "    return iter(it) is it\n",
      "\n",
      "print(is_iterator(RealTestIterator(3)))\n",
      "print(is_iterator(TestIterable(3)))"
     ],
     "language": "python",
     "metadata": {},
     "outputs": [
      {
       "output_type": "stream",
       "stream": "stdout",
       "text": [
        "True\n",
        "False\n"
       ]
      }
     ],
     "prompt_number": 12
    },
    {
     "cell_type": "heading",
     "level": 1,
     "metadata": {},
     "source": [
      "Generators"
     ]
    },
    {
     "cell_type": "heading",
     "level": 2,
     "metadata": {},
     "source": [
      "Generator Basics in Python"
     ]
    },
    {
     "cell_type": "markdown",
     "metadata": {},
     "source": [
      "Every function that contains a `yield` keyword is a *generator function*. A generator function returns a generator object, which is a special case of an iterator (i.e., an object with a `__next__` method and an `__iter__` method that returns self)."
     ]
    },
    {
     "cell_type": "code",
     "collapsed": false,
     "input": [
      "def test():\n",
      "    yield 1\n",
      "    yield 2\n",
      "    \n",
      "print(test)\n",
      "print(test())\n",
      "\n"
     ],
     "language": "python",
     "metadata": {},
     "outputs": [
      {
       "output_type": "stream",
       "stream": "stdout",
       "text": [
        "<function test at 0x109d5af28>\n",
        "<generator object test at 0x109d47ee8>\n"
       ]
      }
     ],
     "prompt_number": 5
    },
    {
     "cell_type": "markdown",
     "metadata": {},
     "source": [
      "The iteration can be performed using the standard iterator API."
     ]
    },
    {
     "cell_type": "code",
     "collapsed": false,
     "input": [
      "t = test()\n",
      "try:\n",
      "    while True:\n",
      "        print(next(t))\n",
      "except StopIteration:\n",
      "    print('done')"
     ],
     "language": "python",
     "metadata": {},
     "outputs": [
      {
       "output_type": "stream",
       "stream": "stdout",
       "text": [
        "1\n",
        "2\n",
        "done\n"
       ]
      }
     ],
     "prompt_number": 6
    },
    {
     "cell_type": "markdown",
     "metadata": {},
     "source": [
      "A generator object can be used anywhere an iterator is supported, e.g., for loops."
     ]
    },
    {
     "cell_type": "code",
     "collapsed": false,
     "input": [
      "for i in test():\n",
      "    print(i)"
     ],
     "language": "python",
     "metadata": {},
     "outputs": [
      {
       "output_type": "stream",
       "stream": "stdout",
       "text": [
        "1\n",
        "2\n"
       ]
      }
     ],
     "prompt_number": 7
    },
    {
     "cell_type": "heading",
     "level": 2,
     "metadata": {},
     "source": [
      "Generators as Coroutines"
     ]
    },
    {
     "cell_type": "markdown",
     "metadata": {},
     "source": [
      "Python 2.5 added the ability to not only get data from a generator, but also to send data to it. `yield` turned from a statement into an expression. Functions that use this feature are called *coroutines*."
     ]
    },
    {
     "cell_type": "code",
     "collapsed": false,
     "input": [
      "def test():\n",
      "    x = yield 1\n",
      "    yield x**2\n",
      "    \n",
      "t = test()\n",
      "print(next(t))  # go to the first yield\n",
      "print(t.send(3))"
     ],
     "language": "python",
     "metadata": {},
     "outputs": [
      {
       "output_type": "stream",
       "stream": "stdout",
       "text": [
        "1\n",
        "9\n"
       ]
      }
     ],
     "prompt_number": 15
    },
    {
     "cell_type": "markdown",
     "metadata": {},
     "source": [
      "Note that `next(t)` is equivalent to `t.send(None)`."
     ]
    },
    {
     "cell_type": "markdown",
     "metadata": {},
     "source": [
      "Forwarding an iterator is easy:"
     ]
    },
    {
     "cell_type": "code",
     "collapsed": false,
     "input": [
      "def test():\n",
      "    yield 1\n",
      "    yield 2\n",
      "    \n",
      "def wrapper():\n",
      "    for i in test():\n",
      "        yield i\n",
      "        \n",
      "for i in wrapper():\n",
      "    print(i)"
     ],
     "language": "python",
     "metadata": {},
     "outputs": [
      {
       "output_type": "stream",
       "stream": "stdout",
       "text": [
        "1\n",
        "2\n"
       ]
      }
     ],
     "prompt_number": 16
    },
    {
     "cell_type": "markdown",
     "metadata": {},
     "source": [
      "Doing the same with a coroutine on the other hand is quite hard (see [PEP 380](http://legacy.python.org/dev/peps/pep-0380/)), so Python 3.3 introduced `yield from`."
     ]
    },
    {
     "cell_type": "heading",
     "level": 2,
     "metadata": {},
     "source": [
      "yield from"
     ]
    },
    {
     "cell_type": "markdown",
     "metadata": {},
     "source": [
      "Wrapping/forwarding coroutines with `yield from` is easy. This is, for example, important if you want to refactor a coroutine by extracting a sub-coroutine."
     ]
    },
    {
     "cell_type": "code",
     "collapsed": false,
     "input": [
      "def test():\n",
      "    x = yield 1\n",
      "    yield x**2\n",
      "    \n",
      "def wrapper():\n",
      "    yield from test()\n",
      "    \n",
      "w = wrapper()\n",
      "print(next(w))\n",
      "print(w.send(3))"
     ],
     "language": "python",
     "metadata": {},
     "outputs": [
      {
       "output_type": "stream",
       "stream": "stdout",
       "text": [
        "1\n",
        "9\n"
       ]
      }
     ],
     "prompt_number": 8
    },
    {
     "cell_type": "markdown",
     "metadata": {},
     "source": [
      "The same PEP also introduced return statements in coroutines, to transport a return value via `StopIteration`."
     ]
    },
    {
     "cell_type": "code",
     "collapsed": false,
     "input": [
      "def test():\n",
      "    for i in range(3):\n",
      "        yield i\n",
      "    return 'done'\n",
      "\n",
      "for i in test():\n",
      "    print(i)"
     ],
     "language": "python",
     "metadata": {},
     "outputs": [
      {
       "output_type": "stream",
       "stream": "stdout",
       "text": [
        "0\n",
        "1\n",
        "2\n"
       ]
      }
     ],
     "prompt_number": 9
    },
    {
     "cell_type": "code",
     "collapsed": false,
     "input": [
      "t = test()\n",
      "try:\n",
      "    while True:\n",
      "        print(next(t))\n",
      "except StopIteration as e:\n",
      "    print(e.value)"
     ],
     "language": "python",
     "metadata": {},
     "outputs": [
      {
       "output_type": "stream",
       "stream": "stdout",
       "text": [
        "0\n",
        "1\n",
        "2\n",
        "done\n"
       ]
      }
     ],
     "prompt_number": 10
    },
    {
     "cell_type": "markdown",
     "metadata": {},
     "source": [
      "The return value also becomes the value of `yield from`:"
     ]
    },
    {
     "cell_type": "code",
     "collapsed": false,
     "input": [
      "def wrapper():\n",
      "    value = yield from test()\n",
      "    print('wrapper got:', value)\n",
      "    return 'wrapper done'\n",
      "\n",
      "for i in wrapper():\n",
      "    print(i)"
     ],
     "language": "python",
     "metadata": {},
     "outputs": [
      {
       "output_type": "stream",
       "stream": "stdout",
       "text": [
        "0\n",
        "1\n",
        "2\n",
        "wrapper got: done\n"
       ]
      }
     ],
     "prompt_number": 11
    },
    {
     "cell_type": "markdown",
     "metadata": {},
     "source": [
      "So `yield from` transparently pipes through the iterations and provides the end result value."
     ]
    },
    {
     "cell_type": "heading",
     "level": 1,
     "metadata": {},
     "source": [
      "More random info about Generators"
     ]
    },
    {
     "cell_type": "heading",
     "level": 2,
     "metadata": {},
     "source": [
      "Yield and List Comprehensions (or Generator Expressions)"
     ]
    },
    {
     "cell_type": "markdown",
     "metadata": {},
     "source": [
      "In older versions of Python the variables in list comprehensions would leak out. In Python 3 this is no longer the case:"
     ]
    },
    {
     "cell_type": "code",
     "collapsed": false,
     "input": [
      "[xy for xy in range(3)]\n",
      "xy"
     ],
     "language": "python",
     "metadata": {},
     "outputs": [
      {
       "ename": "NameError",
       "evalue": "name 'xy' is not defined",
       "output_type": "pyerr",
       "traceback": [
        "\u001b[0;31m---------------------------------------------------------------------------\u001b[0m\n\u001b[0;31mNameError\u001b[0m                                 Traceback (most recent call last)",
        "\u001b[0;32m<ipython-input-21-cbb0562a8cb4>\u001b[0m in \u001b[0;36m<module>\u001b[0;34m()\u001b[0m\n\u001b[1;32m      1\u001b[0m \u001b[0;34m[\u001b[0m\u001b[0mxy\u001b[0m \u001b[0;32mfor\u001b[0m \u001b[0mxy\u001b[0m \u001b[0;32min\u001b[0m \u001b[0mrange\u001b[0m\u001b[0;34m(\u001b[0m\u001b[0;36m3\u001b[0m\u001b[0;34m)\u001b[0m\u001b[0;34m]\u001b[0m\u001b[0;34m\u001b[0m\u001b[0m\n\u001b[0;32m----> 2\u001b[0;31m \u001b[0mxy\u001b[0m\u001b[0;34m\u001b[0m\u001b[0m\n\u001b[0m",
        "\u001b[0;31mNameError\u001b[0m: name 'xy' is not defined"
       ]
      }
     ],
     "prompt_number": 21
    },
    {
     "cell_type": "markdown",
     "metadata": {},
     "source": [
      "List comprehensions now have their own execution context, just like functions and generator expressions."
     ]
    },
    {
     "cell_type": "code",
     "collapsed": false,
     "input": [
      "(xy for xy in range(3))\n",
      "xy"
     ],
     "language": "python",
     "metadata": {},
     "outputs": [
      {
       "ename": "NameError",
       "evalue": "name 'xy' is not defined",
       "output_type": "pyerr",
       "traceback": [
        "\u001b[0;31m---------------------------------------------------------------------------\u001b[0m\n\u001b[0;31mNameError\u001b[0m                                 Traceback (most recent call last)",
        "\u001b[0;32m<ipython-input-22-b71fcbdacfb2>\u001b[0m in \u001b[0;36m<module>\u001b[0;34m()\u001b[0m\n\u001b[1;32m      1\u001b[0m \u001b[0;34m(\u001b[0m\u001b[0mxy\u001b[0m \u001b[0;32mfor\u001b[0m \u001b[0mxy\u001b[0m \u001b[0;32min\u001b[0m \u001b[0mrange\u001b[0m\u001b[0;34m(\u001b[0m\u001b[0;36m3\u001b[0m\u001b[0;34m)\u001b[0m\u001b[0;34m)\u001b[0m\u001b[0;34m\u001b[0m\u001b[0m\n\u001b[0;32m----> 2\u001b[0;31m \u001b[0mxy\u001b[0m\u001b[0;34m\u001b[0m\u001b[0m\n\u001b[0m",
        "\u001b[0;31mNameError\u001b[0m: name 'xy' is not defined"
       ]
      }
     ],
     "prompt_number": 22
    },
    {
     "cell_type": "markdown",
     "metadata": {},
     "source": [
      "A side effect of this is that a `yield` statement in a list comprehension causes it to evaluate to a generator object."
     ]
    },
    {
     "cell_type": "code",
     "collapsed": false,
     "input": [
      "[i for i in range(3) if (yield i)]"
     ],
     "language": "python",
     "metadata": {},
     "outputs": [
      {
       "metadata": {},
       "output_type": "pyout",
       "prompt_number": 23,
       "text": [
        "<generator object <listcomp> at 0x105f75fc0>"
       ]
      }
     ],
     "prompt_number": 23
    },
    {
     "cell_type": "markdown",
     "metadata": {},
     "source": [
      "This can be surprising at first."
     ]
    },
    {
     "cell_type": "code",
     "collapsed": false,
     "input": [
      "set([i**2 for i in range(3) if (yield i)])"
     ],
     "language": "python",
     "metadata": {},
     "outputs": [
      {
       "metadata": {},
       "output_type": "pyout",
       "prompt_number": 24,
       "text": [
        "{0, 1, 2}"
       ]
      }
     ],
     "prompt_number": 24
    },
    {
     "cell_type": "code",
     "collapsed": false,
     "input": [
      "set([(yield i**2) for i in range(3)])"
     ],
     "language": "python",
     "metadata": {},
     "outputs": [
      {
       "metadata": {},
       "output_type": "pyout",
       "prompt_number": 25,
       "text": [
        "{0, 1, 4}"
       ]
      }
     ],
     "prompt_number": 25
    },
    {
     "cell_type": "markdown",
     "metadata": {},
     "source": [
      "Generator expressions have always behaved in this way (since they are executed lazily they always had to store their context)."
     ]
    },
    {
     "cell_type": "code",
     "collapsed": false,
     "input": [
      "set(i**2 for i in range(3) if (yield i))"
     ],
     "language": "python",
     "metadata": {},
     "outputs": [
      {
       "metadata": {},
       "output_type": "pyout",
       "prompt_number": 26,
       "text": [
        "{0, 1, 2}"
       ]
      }
     ],
     "prompt_number": 26
    },
    {
     "cell_type": "markdown",
     "metadata": {},
     "source": [
      "Set and Dict comprehensions of course act like just list comprehensions."
     ]
    },
    {
     "cell_type": "code",
     "collapsed": false,
     "input": [
      "{i**2 for i in range(3) if (yield i)}"
     ],
     "language": "python",
     "metadata": {},
     "outputs": [
      {
       "metadata": {},
       "output_type": "pyout",
       "prompt_number": 27,
       "text": [
        "<generator object <setcomp> at 0x105f75d80>"
       ]
      }
     ],
     "prompt_number": 27
    },
    {
     "cell_type": "code",
     "collapsed": false,
     "input": [
      "{i: i**2 for i in range(3) if (yield i)}"
     ],
     "language": "python",
     "metadata": {},
     "outputs": [
      {
       "metadata": {},
       "output_type": "pyout",
       "prompt_number": 28,
       "text": [
        "<generator object <dictcomp> at 0x105f75c18>"
       ]
      }
     ],
     "prompt_number": 28
    },
    {
     "cell_type": "heading",
     "level": 2,
     "metadata": {},
     "source": [
      "Beware of `StopIteration`"
     ]
    },
    {
     "cell_type": "markdown",
     "metadata": {},
     "source": [
      "A generator can be exited explicity by raising `StopIteration`. Unfortunately it doesn't matter from where this is raised. It might come from another iteration inside a nested function that is not caught properly."
     ]
    },
    {
     "cell_type": "code",
     "collapsed": false,
     "input": [
      "import unittest.mock as mock\n",
      "m = mock.Mock(side_effect=[1, 2])\n",
      "\n",
      "def test():\n",
      "    yield m()\n",
      "    yield m()\n",
      "    yield m()\n",
      "\n",
      "for i in test():\n",
      "    print(i)"
     ],
     "language": "python",
     "metadata": {},
     "outputs": [
      {
       "output_type": "stream",
       "stream": "stdout",
       "text": [
        "1\n",
        "2\n"
       ]
      }
     ],
     "prompt_number": 29
    },
    {
     "cell_type": "markdown",
     "metadata": {},
     "source": [
      "So a simple error in setting up your mocks can silently cause an unexpected abortion in your asynchronois test code!"
     ]
    },
    {
     "cell_type": "heading",
     "level": 2,
     "metadata": {},
     "source": [
      "`GeneratorExit`, `close` and `throw`"
     ]
    },
    {
     "cell_type": "markdown",
     "metadata": {},
     "source": [
      "As a counterpart to `StopIteration` you can signal a generator from the outside that it should finish. This is done by calling `close()` on the generator, which will raise a `GeneratorExit` exception."
     ]
    },
    {
     "cell_type": "code",
     "collapsed": false,
     "input": [
      "def test():\n",
      "    try:\n",
      "        i = 1\n",
      "        while True:\n",
      "            yield i\n",
      "            i += 1\n",
      "    except GeneratorExit:\n",
      "        print('done')\n",
      "    print('bye')\n",
      "    \n",
      "t = test()\n",
      "print(next(t))\n",
      "print(next(t))\n",
      "t.close()\n",
      "try:\n",
      "    print(next(t))\n",
      "except StopIteration:\n",
      "    print('no more values')"
     ],
     "language": "python",
     "metadata": {},
     "outputs": [
      {
       "output_type": "stream",
       "stream": "stdout",
       "text": [
        "1\n",
        "2\n",
        "done\n",
        "bye\n",
        "no more values\n"
       ]
      }
     ],
     "prompt_number": 30
    },
    {
     "cell_type": "markdown",
     "metadata": {},
     "source": [
      "Catching the `GeneratorExit` is not really necessary here. But if the generator has any resources that need cleanup then one can use a `try ... finally` or a context manager to perform this. "
     ]
    },
    {
     "cell_type": "code",
     "collapsed": false,
     "input": [
      "def test():\n",
      "    i = 1\n",
      "    while True:\n",
      "        yield i\n",
      "        i += 1\n",
      "    \n",
      "t = test()\n",
      "print(next(t))\n",
      "print(next(t))\n",
      "t.close()\n",
      "try:\n",
      "    print(next(t))\n",
      "except StopIteration:\n",
      "    print('no more values')"
     ],
     "language": "python",
     "metadata": {},
     "outputs": [
      {
       "output_type": "stream",
       "stream": "stdout",
       "text": [
        "1\n",
        "2\n",
        "no more values\n"
       ]
      }
     ],
     "prompt_number": 31
    },
    {
     "cell_type": "markdown",
     "metadata": {},
     "source": [
      "Yielding values after the exception was raised is not supported."
     ]
    },
    {
     "cell_type": "code",
     "collapsed": false,
     "input": [
      "def test():\n",
      "    try:\n",
      "        i = 1\n",
      "        while True:\n",
      "            yield i\n",
      "            i += 1\n",
      "    except GeneratorExit:\n",
      "        print('done')\n",
      "    yield 'just one more value'\n",
      "        \n",
      "    \n",
      "t = test()\n",
      "print(next(t))\n",
      "print(next(t))\n",
      "t.close()"
     ],
     "language": "python",
     "metadata": {},
     "outputs": [
      {
       "output_type": "stream",
       "stream": "stdout",
       "text": [
        "1\n",
        "2\n",
        "done\n"
       ]
      },
      {
       "ename": "RuntimeError",
       "evalue": "generator ignored GeneratorExit",
       "output_type": "pyerr",
       "traceback": [
        "\u001b[0;31m---------------------------------------------------------------------------\u001b[0m\n\u001b[0;31mRuntimeError\u001b[0m                              Traceback (most recent call last)",
        "\u001b[0;32m<ipython-input-32-059928dd7e89>\u001b[0m in \u001b[0;36m<module>\u001b[0;34m()\u001b[0m\n\u001b[1;32m     13\u001b[0m \u001b[0mprint\u001b[0m\u001b[0;34m(\u001b[0m\u001b[0mnext\u001b[0m\u001b[0;34m(\u001b[0m\u001b[0mt\u001b[0m\u001b[0;34m)\u001b[0m\u001b[0;34m)\u001b[0m\u001b[0;34m\u001b[0m\u001b[0m\n\u001b[1;32m     14\u001b[0m \u001b[0mprint\u001b[0m\u001b[0;34m(\u001b[0m\u001b[0mnext\u001b[0m\u001b[0;34m(\u001b[0m\u001b[0mt\u001b[0m\u001b[0;34m)\u001b[0m\u001b[0;34m)\u001b[0m\u001b[0;34m\u001b[0m\u001b[0m\n\u001b[0;32m---> 15\u001b[0;31m \u001b[0mt\u001b[0m\u001b[0;34m.\u001b[0m\u001b[0mclose\u001b[0m\u001b[0;34m(\u001b[0m\u001b[0;34m)\u001b[0m\u001b[0;34m\u001b[0m\u001b[0m\n\u001b[0m",
        "\u001b[0;31mRuntimeError\u001b[0m: generator ignored GeneratorExit"
       ]
      }
     ],
     "prompt_number": 32
    },
    {
     "cell_type": "markdown",
     "metadata": {},
     "source": [
      "Note that throwing the `GeneratorExit` exception manually does not have the same effect as calling close."
     ]
    },
    {
     "cell_type": "code",
     "collapsed": false,
     "input": [
      "def test():\n",
      "    try:\n",
      "        i = 1\n",
      "        while True:\n",
      "            yield i\n",
      "            i += 1\n",
      "    except GeneratorExit:\n",
      "        print('done')\n",
      "    yield 'one more value'\n",
      "    yield 'and another one'\n",
      "\n",
      "t = test()\n",
      "print(next(t))\n",
      "print(next(t))\n",
      "print(t.throw(GeneratorExit()))\n",
      "print(next(t))"
     ],
     "language": "python",
     "metadata": {},
     "outputs": [
      {
       "output_type": "stream",
       "stream": "stdout",
       "text": [
        "1\n",
        "2\n",
        "done\n",
        "one more value\n",
        "and another one\n"
       ]
      }
     ],
     "prompt_number": 33
    }
   ],
   "metadata": {}
  }
 ]
}