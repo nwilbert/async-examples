{
 "cells": [
  {
   "cell_type": "markdown",
   "metadata": {},
   "source": [
    "# Benchmark comparing MongoDB sync vs. async"
   ]
  },
  {
   "cell_type": "code",
   "execution_count": 1,
   "metadata": {
    "collapsed": true
   },
   "outputs": [],
   "source": [
    "import time\n",
    "import asyncio\n",
    "import contextlib\n",
    "from pymongo import MongoClient\n",
    "from motor.motor_asyncio import AsyncIOMotorClient\n",
    "\n",
    "@contextlib.contextmanager\n",
    "def timer(description):\n",
    "    start_time = time.time()\n",
    "    yield\n",
    "    end_time = time.time()\n",
    "    print('{} took {:5.4f} seconds'.format(description, end_time - start_time))\n",
    "    \n",
    "sync_client = MongoClient().aiotest.testcol\n",
    "aio_client = AsyncIOMotorClient(max_pool_size=10).aiotest.testcol\n",
    "loop = asyncio.get_event_loop()"
   ]
  },
  {
   "cell_type": "code",
   "execution_count": 2,
   "metadata": {
    "collapsed": true
   },
   "outputs": [],
   "source": [
    "N = 1000"
   ]
  },
  {
   "cell_type": "code",
   "execution_count": 3,
   "metadata": {
    "collapsed": false
   },
   "outputs": [],
   "source": [
    "_ = sync_client.insert({'abc': i} for i in range(N))"
   ]
  },
  {
   "cell_type": "markdown",
   "metadata": {},
   "source": [
    "## Synchronous Requests"
   ]
  },
  {
   "cell_type": "code",
   "execution_count": 4,
   "metadata": {
    "collapsed": false
   },
   "outputs": [
    {
     "name": "stdout",
     "output_type": "stream",
     "text": [
      "sequential sync read took 0.3548 seconds\n"
     ]
    }
   ],
   "source": [
    "with timer('sequential sync read'):\n",
    "    for i in range(N):\n",
    "        sync_client.find_one({'abc': i})"
   ]
  },
  {
   "cell_type": "markdown",
   "metadata": {},
   "source": [
    "## Asynchronous Requests"
   ]
  },
  {
   "cell_type": "code",
   "execution_count": 5,
   "metadata": {
    "collapsed": false
   },
   "outputs": [
    {
     "name": "stdout",
     "output_type": "stream",
     "text": [
      "sequential async read took 0.5510 seconds\n"
     ]
    }
   ],
   "source": [
    "with timer('sequential async read'):\n",
    "    for i in range(N):\n",
    "        loop.run_until_complete(aio_client.find_one({'abc': i}))"
   ]
  },
  {
   "cell_type": "markdown",
   "metadata": {},
   "source": [
    "Using an async for-loop is not much faster:"
   ]
  },
  {
   "cell_type": "code",
   "execution_count": 6,
   "metadata": {
    "collapsed": false
   },
   "outputs": [
    {
     "name": "stdout",
     "output_type": "stream",
     "text": [
      "sequential async read with cursor took 0.0143 seconds\n"
     ]
    }
   ],
   "source": [
    "async def f():\n",
    "    async for doc in aio_client.find():\n",
    "        pass\n",
    "    \n",
    "with timer('sequential async read with cursor'):\n",
    "    loop.run_until_complete(f())"
   ]
  },
  {
   "cell_type": "code",
   "execution_count": 7,
   "metadata": {
    "collapsed": false
   },
   "outputs": [
    {
     "name": "stdout",
     "output_type": "stream",
     "text": [
      "parallel async read with 1 parallel requests took 0.5825 seconds\n",
      "parallel async read with 2 parallel requests took 0.3421 seconds\n",
      "parallel async read with 3 parallel requests took 0.2892 seconds\n",
      "parallel async read with 4 parallel requests took 0.2624 seconds\n",
      "parallel async read with 5 parallel requests took 0.2528 seconds\n",
      "parallel async read with 6 parallel requests took 0.2457 seconds\n",
      "parallel async read with 7 parallel requests took 0.2376 seconds\n",
      "parallel async read with 8 parallel requests took 0.2409 seconds\n",
      "parallel async read with 9 parallel requests took 0.2287 seconds\n",
      "parallel async read with 10 parallel requests took 0.2477 seconds\n",
      "parallel async read with 11 parallel requests took 0.2754 seconds\n",
      "parallel async read with 12 parallel requests took 0.2692 seconds\n",
      "parallel async read with 13 parallel requests took 0.2364 seconds\n",
      "parallel async read with 14 parallel requests took 0.2307 seconds\n",
      "parallel async read with 15 parallel requests took 0.2309 seconds\n",
      "parallel async read with 16 parallel requests took 0.2298 seconds\n",
      "parallel async read with 17 parallel requests took 0.2261 seconds\n",
      "parallel async read with 18 parallel requests took 0.2259 seconds\n",
      "parallel async read with 19 parallel requests took 0.2242 seconds\n"
     ]
    }
   ],
   "source": [
    "for chunk_size in range(1, 20):\n",
    "    with timer('parallel async read with {} parallel requests'.format(chunk_size)):\n",
    "        for i in range(N // chunk_size):\n",
    "            # interesting part:\n",
    "            coros = [aio_client.find_one({'abc': (i * chunk_size) + j})\n",
    "                     for j in range(chunk_size)]\n",
    "            loop.run_until_complete(asyncio.gather(*coros))"
   ]
  },
  {
   "cell_type": "code",
   "execution_count": 8,
   "metadata": {
    "collapsed": true
   },
   "outputs": [],
   "source": [
    "sync_client.drop()"
   ]
  }
 ],
 "metadata": {
  "kernelspec": {
   "display_name": "Python 3",
   "language": "python",
   "name": "python3"
  },
  "language_info": {
   "codemirror_mode": {
    "name": "ipython",
    "version": 3
   },
   "file_extension": ".py",
   "mimetype": "text/x-python",
   "name": "python",
   "nbconvert_exporter": "python",
   "pygments_lexer": "ipython3",
   "version": "3.5.0"
  }
 },
 "nbformat": 4,
 "nbformat_minor": 0
}
