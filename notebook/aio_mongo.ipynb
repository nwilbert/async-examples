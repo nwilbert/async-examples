{
 "cells": [
  {
   "cell_type": "markdown",
   "metadata": {},
   "source": [
    "# Benchmark comparing MongoDB sync vs. async"
   ]
  },
  {
   "cell_type": "code",
   "execution_count": 33,
   "metadata": {},
   "outputs": [],
   "source": [
    "import time\n",
    "import asyncio\n",
    "import contextlib\n",
    "from pymongo import MongoClient\n",
    "from motor.motor_asyncio import AsyncIOMotorClient\n",
    "\n",
    "@contextlib.contextmanager\n",
    "def timer(description):\n",
    "    start_time = time.time()\n",
    "    yield\n",
    "    end_time = time.time()\n",
    "    print('{} took {:5.4f} seconds'.format(description, end_time - start_time))\n",
    "    \n",
    "sync_client = MongoClient().aiotest.testcol\n",
    "aio_client = AsyncIOMotorClient(max_pool_size=10).aiotest.testcol\n",
    "loop = asyncio.get_event_loop()"
   ]
  },
  {
   "cell_type": "code",
   "execution_count": 8,
   "metadata": {},
   "outputs": [],
   "source": [
    "N = 1000"
   ]
  },
  {
   "cell_type": "code",
   "execution_count": 10,
   "metadata": {},
   "outputs": [],
   "source": [
    "_ = sync_client.insert({'abc': i} for i in range(N))"
   ]
  },
  {
   "cell_type": "markdown",
   "metadata": {},
   "source": [
    "## Synchronous Requests"
   ]
  },
  {
   "cell_type": "code",
   "execution_count": 34,
   "metadata": {},
   "outputs": [
    {
     "name": "stdout",
     "output_type": "stream",
     "text": [
      "sequential sync read took 0.3535 seconds\n"
     ]
    }
   ],
   "source": [
    "with timer('sequential sync read'):\n",
    "    for i in range(N):\n",
    "        sync_client.find_one({'abc': i})"
   ]
  },
  {
   "cell_type": "markdown",
   "metadata": {},
   "source": [
    "## Asynchronous Requests"
   ]
  },
  {
   "cell_type": "code",
   "execution_count": 12,
   "metadata": {},
   "outputs": [
    {
     "name": "stdout",
     "output_type": "stream",
     "text": [
      "sequential async read took 0.5558857917785645 seconds\n"
     ]
    }
   ],
   "source": [
    "with timer('sequential async read'):\n",
    "    for i in range(N):\n",
    "        loop.run_until_complete(aio_client.find_one({'abc': i}))"
   ]
  },
  {
   "cell_type": "markdown",
   "metadata": {},
   "source": [
    "Using an async for-loop is not much faster:"
   ]
  },
  {
   "cell_type": "code",
   "execution_count": 13,
   "metadata": {},
   "outputs": [
    {
     "name": "stdout",
     "output_type": "stream",
     "text": [
      "sequential async read with cursor took 0.028409957885742188 seconds\n"
     ]
    }
   ],
   "source": [
    "async def f():\n",
    "    async for doc in aio_client.find():\n",
    "        pass\n",
    "    \n",
    "with timer('sequential async read with cursor'):\n",
    "    loop.run_until_complete(f())"
   ]
  },
  {
   "cell_type": "code",
   "execution_count": 14,
   "metadata": {},
   "outputs": [
    {
     "name": "stdout",
     "output_type": "stream",
     "text": [
      "parallel async read with 1 parallel requests took 0.616163969039917 seconds\n",
      "parallel async read with 2 parallel requests took 0.35162997245788574 seconds\n",
      "parallel async read with 3 parallel requests took 0.2948617935180664 seconds\n",
      "parallel async read with 4 parallel requests took 0.26516294479370117 seconds\n",
      "parallel async read with 5 parallel requests took 0.24994611740112305 seconds\n",
      "parallel async read with 6 parallel requests took 0.24745702743530273 seconds\n",
      "parallel async read with 7 parallel requests took 0.23832011222839355 seconds\n",
      "parallel async read with 8 parallel requests took 0.23779797554016113 seconds\n",
      "parallel async read with 9 parallel requests took 0.23258399963378906 seconds\n",
      "parallel async read with 10 parallel requests took 0.231536865234375 seconds\n",
      "parallel async read with 11 parallel requests took 0.22452688217163086 seconds\n",
      "parallel async read with 12 parallel requests took 0.2237100601196289 seconds\n",
      "parallel async read with 13 parallel requests took 0.21818184852600098 seconds\n",
      "parallel async read with 14 parallel requests took 0.21832585334777832 seconds\n",
      "parallel async read with 15 parallel requests took 0.22688078880310059 seconds\n",
      "parallel async read with 16 parallel requests took 0.22031497955322266 seconds\n",
      "parallel async read with 17 parallel requests took 0.22269797325134277 seconds\n",
      "parallel async read with 18 parallel requests took 0.22491192817687988 seconds\n",
      "parallel async read with 19 parallel requests took 0.21470904350280762 seconds\n"
     ]
    }
   ],
   "source": [
    "for chunk_size in range(1, 20):\n",
    "    with timer('parallel async read with {} parallel requests'.format(chunk_size)):\n",
    "        futures = [col.find_one({'abc': i})]\n",
    "        for i in range(N // chunk_size):\n",
    "            # interesting part:\n",
    "            futures = [col.find_one({'abc': (i * chunk_size) + j})\n",
    "                       for j in range(chunk_size)]\n",
    "            loop.run_until_complete(asyncio.gather(*futures))"
   ]
  },
  {
   "cell_type": "code",
   "execution_count": 3,
   "metadata": {},
   "outputs": [],
   "source": [
    "sync_client.drop()"
   ]
  }
 ],
 "metadata": {
  "kernelspec": {
   "display_name": "Python 3",
   "language": "python",
   "name": "python3"
  },
  "language_info": {
   "codemirror_mode": {
    "name": "ipython",
    "version": 3.0
   },
   "file_extension": ".py",
   "mimetype": "text/x-python",
   "name": "python",
   "nbconvert_exporter": "python",
   "pygments_lexer": "ipython3",
   "version": "3.5.0"
  }
 },
 "nbformat": 4,
 "nbformat_minor": 0
}