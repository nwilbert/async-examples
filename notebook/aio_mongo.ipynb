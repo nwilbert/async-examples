{
 "cells": [
  {
   "cell_type": "markdown",
   "metadata": {},
   "source": [
    "# Benchmark comparing MongoDB sync vs. async"
   ]
  },
  {
   "cell_type": "code",
   "execution_count": 1,
   "metadata": {},
   "outputs": [],
   "source": [
    "import time\n",
    "import asyncio\n",
    "import contextlib\n",
    "from pymongo import MongoClient\n",
    "from motor.motor_asyncio import AsyncIOMotorClient\n",
    "\n",
    "@contextlib.contextmanager\n",
    "def timer(description):\n",
    "    start_time = time.time()\n",
    "    yield\n",
    "    end_time = time.time()\n",
    "    print('{} took {:5.4f} seconds'.format(description, end_time - start_time))\n",
    "    \n",
    "sync_client = MongoClient().aiotest.testcol\n",
    "aio_client = AsyncIOMotorClient().aiotest.testcol\n",
    "loop = asyncio.get_event_loop()"
   ]
  },
  {
   "cell_type": "code",
   "execution_count": 2,
   "metadata": {},
   "outputs": [],
   "source": [
    "N = 1000"
   ]
  },
  {
   "cell_type": "code",
   "execution_count": 3,
   "metadata": {},
   "outputs": [],
   "source": [
    "_ = sync_client.insert_many({'abc': i} for i in range(N))"
   ]
  },
  {
   "cell_type": "markdown",
   "metadata": {},
   "source": [
    "## Synchronous Requests"
   ]
  },
  {
   "cell_type": "code",
   "execution_count": 4,
   "metadata": {},
   "outputs": [
    {
     "name": "stdout",
     "output_type": "stream",
     "text": [
      "sequential sync read took 0.4751 seconds\n"
     ]
    }
   ],
   "source": [
    "with timer('sequential sync read'):\n",
    "    for i in range(N):\n",
    "        sync_client.find_one({'abc': i})"
   ]
  },
  {
   "cell_type": "markdown",
   "metadata": {},
   "source": [
    "## Asynchronous Requests"
   ]
  },
  {
   "cell_type": "code",
   "execution_count": 5,
   "metadata": {},
   "outputs": [
    {
     "name": "stdout",
     "output_type": "stream",
     "text": [
      "sequential async read took 0.6313 seconds\n"
     ]
    }
   ],
   "source": [
    "async def read_all_sequential():\n",
    "    for i in range(N):\n",
    "        await aio_client.find_one({'abc': i})\n",
    "\n",
    "with timer('sequential async read'):\n",
    "    loop.run_until_complete(read_all_sequential())"
   ]
  },
  {
   "cell_type": "code",
   "execution_count": 6,
   "metadata": {},
   "outputs": [
    {
     "name": "stdout",
     "output_type": "stream",
     "text": [
      "parallel async read with 1 parallel requests took 0.6647 seconds\n",
      "parallel async read with 2 parallel requests took 0.4478 seconds\n",
      "parallel async read with 3 parallel requests took 0.3854 seconds\n",
      "parallel async read with 4 parallel requests took 0.3700 seconds\n",
      "parallel async read with 5 parallel requests took 0.3487 seconds\n",
      "parallel async read with 6 parallel requests took 0.3467 seconds\n",
      "parallel async read with 7 parallel requests took 0.3423 seconds\n",
      "parallel async read with 8 parallel requests took 0.3332 seconds\n",
      "parallel async read with 9 parallel requests took 0.3361 seconds\n",
      "parallel async read with 10 parallel requests took 0.3398 seconds\n",
      "parallel async read with 11 parallel requests took 0.3277 seconds\n",
      "parallel async read with 12 parallel requests took 0.3276 seconds\n",
      "parallel async read with 13 parallel requests took 0.3303 seconds\n",
      "parallel async read with 14 parallel requests took 0.3282 seconds\n",
      "parallel async read with 15 parallel requests took 0.3226 seconds\n",
      "parallel async read with 16 parallel requests took 0.3255 seconds\n",
      "parallel async read with 17 parallel requests took 0.3193 seconds\n",
      "parallel async read with 18 parallel requests took 0.3183 seconds\n",
      "parallel async read with 19 parallel requests took 0.3187 seconds\n"
     ]
    }
   ],
   "source": [
    "for chunk_size in range(1, 20):\n",
    "    \n",
    "    async def read_all_chunks():\n",
    "        for i in range(N // chunk_size):\n",
    "            await asyncio.gather(*(\n",
    "                aio_client.find_one({'abc': (i * chunk_size) + j})\n",
    "                for j in range(chunk_size)))\n",
    "    \n",
    "    with timer('parallel async read with {} parallel requests'.format(chunk_size)):           \n",
    "        loop.run_until_complete(asyncio.gather(read_all_chunks()))"
   ]
  },
  {
   "cell_type": "code",
   "execution_count": 7,
   "metadata": {},
   "outputs": [],
   "source": [
    "sync_client.drop()"
   ]
  },
  {
   "cell_type": "code",
   "execution_count": null,
   "metadata": {},
   "outputs": [],
   "source": []
  }
 ],
 "metadata": {
  "kernelspec": {
   "display_name": "Python 3",
   "language": "python",
   "name": "python3"
  },
  "language_info": {
   "codemirror_mode": {
    "name": "ipython",
    "version": 3
   },
   "file_extension": ".py",
   "mimetype": "text/x-python",
   "name": "python",
   "nbconvert_exporter": "python",
   "pygments_lexer": "ipython3",
   "version": "3.6.2"
  }
 },
 "nbformat": 4,
 "nbformat_minor": 1
}
