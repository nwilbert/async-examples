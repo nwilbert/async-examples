{
 "cells": [
  {
   "cell_type": "markdown",
   "metadata": {},
   "source": [
    "# asyncio IO Loop"
   ]
  },
  {
   "cell_type": "markdown",
   "metadata": {},
   "source": [
    "Create an event loop (which automatically becomes the default event loop in the context)."
   ]
  },
  {
   "cell_type": "code",
   "execution_count": 1,
   "metadata": {},
   "outputs": [],
   "source": [
    "import asyncio\n",
    "loop = asyncio.get_event_loop()"
   ]
  },
  {
   "cell_type": "markdown",
   "metadata": {},
   "source": [
    "Run a simple callback as soon as possible:"
   ]
  },
  {
   "cell_type": "code",
   "execution_count": 2,
   "metadata": {},
   "outputs": [
    {
     "name": "stdout",
     "output_type": "stream",
     "text": [
      "Hello World!\n"
     ]
    }
   ],
   "source": [
    "def hello_world():\n",
    "    print('Hello World!')\n",
    "    loop.stop()\n",
    "\n",
    "loop.call_soon(hello_world)\n",
    "loop.run_forever()"
   ]
  },
  {
   "cell_type": "markdown",
   "metadata": {},
   "source": [
    "# Coroutine Examples"
   ]
  },
  {
   "cell_type": "markdown",
   "metadata": {},
   "source": [
    "Coroutines can be directly scheduled in the eventloop."
   ]
  },
  {
   "cell_type": "code",
   "execution_count": 3,
   "metadata": {},
   "outputs": [
    {
     "name": "stdout",
     "output_type": "stream",
     "text": [
      "Hello world!\n"
     ]
    },
    {
     "data": {
      "text/plain": [
       "42"
      ]
     },
     "execution_count": 3,
     "metadata": {},
     "output_type": "execute_result"
    }
   ],
   "source": [
    "async def aprint(text):\n",
    "    await asyncio.sleep(1)\n",
    "    print(text)\n",
    "    return 42\n",
    "\n",
    "loop.run_until_complete(aprint('Hello world!'))"
   ]
  },
  {
   "cell_type": "markdown",
   "metadata": {},
   "source": [
    "You can use as many awaits as you like in a couroutine:"
   ]
  },
  {
   "cell_type": "code",
   "execution_count": 4,
   "metadata": {},
   "outputs": [
    {
     "name": "stdout",
     "output_type": "stream",
     "text": [
      "Hello world!\n",
      "Hello world! (once more)\n"
     ]
    },
    {
     "data": {
      "text/plain": [
       "42"
      ]
     },
     "execution_count": 4,
     "metadata": {},
     "output_type": "execute_result"
    }
   ],
   "source": [
    "async def aprint_twice(text):\n",
    "    await asyncio.sleep(1)\n",
    "    print(text)    \n",
    "    await asyncio.sleep(1)\n",
    "    print(text + ' (once more)')\n",
    "    return 42\n",
    "\n",
    "loop.run_until_complete(aprint_twice('Hello world!'))"
   ]
  },
  {
   "cell_type": "markdown",
   "metadata": {},
   "source": [
    "All normal control structures can be used:"
   ]
  },
  {
   "cell_type": "code",
   "execution_count": 5,
   "metadata": {},
   "outputs": [
    {
     "name": "stdout",
     "output_type": "stream",
     "text": [
      "even\n",
      "uneven, waiting some more...\n",
      "even\n",
      "uneven, waiting some more...\n",
      "even\n",
      "uneven, waiting some more...\n"
     ]
    }
   ],
   "source": [
    "async def aprint_twice():\n",
    "    for i in range(1, 7):\n",
    "        await asyncio.sleep(0.5)\n",
    "        if i % 2:\n",
    "            print('even')\n",
    "        else:\n",
    "            print('uneven, waiting some more...')\n",
    "            await asyncio.sleep(1)\n",
    "\n",
    "loop.run_until_complete(aprint_twice())"
   ]
  },
  {
   "cell_type": "markdown",
   "metadata": {},
   "source": [
    "Exceptions work just like you would expect"
   ]
  },
  {
   "cell_type": "code",
   "execution_count": 6,
   "metadata": {},
   "outputs": [
    {
     "name": "stdout",
     "output_type": "stream",
     "text": [
      "caught something\n"
     ]
    }
   ],
   "source": [
    "async def raiser():\n",
    "    await asyncio.sleep(1)\n",
    "    raise ValueError()\n",
    "    \n",
    "async def catcher():\n",
    "    try:\n",
    "        await raiser()\n",
    "    except ValueError:\n",
    "        print('caught something')\n",
    "        \n",
    "loop.run_until_complete(catcher())"
   ]
  },
  {
   "cell_type": "markdown",
   "metadata": {},
   "source": [
    "Multiple Coroutines can be combined and executed concurrently:"
   ]
  },
  {
   "cell_type": "code",
   "execution_count": 7,
   "metadata": {},
   "outputs": [
    {
     "name": "stdout",
     "output_type": "stream",
     "text": [
      "Task 2\n",
      "Task 1\n"
     ]
    },
    {
     "data": {
      "text/plain": [
       "[42, 42]"
      ]
     },
     "execution_count": 7,
     "metadata": {},
     "output_type": "execute_result"
    }
   ],
   "source": [
    "tasks = asyncio.gather(aprint('Task 1'), aprint('Task 2'))\n",
    "loop.run_until_complete(tasks)"
   ]
  },
  {
   "cell_type": "markdown",
   "metadata": {},
   "source": [
    "Note that this only took one second, not two!"
   ]
  },
  {
   "cell_type": "markdown",
   "metadata": {},
   "source": [
    "## Automatic Checks"
   ]
  },
  {
   "cell_type": "code",
   "execution_count": 8,
   "metadata": {
    "scrolled": true
   },
   "outputs": [],
   "source": [
    "async def remember_me():\n",
    "    print('I started.')\n",
    "    await aprint('Did I forget something?')\n",
    "a = remember_me()"
   ]
  },
  {
   "cell_type": "markdown",
   "metadata": {},
   "source": [
    "Note that nothing happens as long as the coroutine is not awaited.\n",
    "Even the synchronous print is not executed."
   ]
  },
  {
   "cell_type": "code",
   "execution_count": 9,
   "metadata": {},
   "outputs": [
    {
     "name": "stderr",
     "output_type": "stream",
     "text": [
      "/Users/niko/.virtualenvs/async/lib/python3.6/site-packages/ipykernel_launcher.py:1: RuntimeWarning: coroutine 'remember_me' was never awaited\n",
      "  \"\"\"Entry point for launching an IPython kernel.\n"
     ]
    }
   ],
   "source": [
    "a = 42"
   ]
  },
  {
   "cell_type": "markdown",
   "metadata": {},
   "source": [
    "Not awaiting a coroutine raises an error."
   ]
  },
  {
   "cell_type": "markdown",
   "metadata": {},
   "source": [
    "Awaiting a coroutine \"later\" is ok though."
   ]
  },
  {
   "cell_type": "code",
   "execution_count": 10,
   "metadata": {},
   "outputs": [
    {
     "name": "stdout",
     "output_type": "stream",
     "text": [
      "Did I forget something?\n"
     ]
    }
   ],
   "source": [
    "a = aprint('Did I forget something?')\n",
    "loop.run_until_complete(a)\n",
    "del(a)"
   ]
  },
  {
   "cell_type": "markdown",
   "metadata": {},
   "source": [
    "Awaiting something that is not awaitable raises an error."
   ]
  },
  {
   "cell_type": "code",
   "execution_count": 11,
   "metadata": {},
   "outputs": [
    {
     "ename": "TypeError",
     "evalue": "object function can't be used in 'await' expression",
     "output_type": "error",
     "traceback": [
      "\u001b[0;31m---------------------------------------------------------------------------\u001b[0m",
      "\u001b[0;31mTypeError\u001b[0m                                 Traceback (most recent call last)",
      "\u001b[0;32m<ipython-input-11-5a324fa5a36c>\u001b[0m in \u001b[0;36m<module>\u001b[0;34m()\u001b[0m\n\u001b[1;32m      2\u001b[0m     \u001b[0mawait\u001b[0m \u001b[0maprint\u001b[0m\u001b[0;34m\u001b[0m\u001b[0m\n\u001b[1;32m      3\u001b[0m \u001b[0;34m\u001b[0m\u001b[0m\n\u001b[0;32m----> 4\u001b[0;31m \u001b[0mloop\u001b[0m\u001b[0;34m.\u001b[0m\u001b[0mrun_until_complete\u001b[0m\u001b[0;34m(\u001b[0m\u001b[0mfail\u001b[0m\u001b[0;34m(\u001b[0m\u001b[0;34m)\u001b[0m\u001b[0;34m)\u001b[0m\u001b[0;34m\u001b[0m\u001b[0m\n\u001b[0m",
      "\u001b[0;32m/usr/local/Cellar/python3/3.6.2/Frameworks/Python.framework/Versions/3.6/lib/python3.6/asyncio/base_events.py\u001b[0m in \u001b[0;36mrun_until_complete\u001b[0;34m(self, future)\u001b[0m\n\u001b[1;32m    465\u001b[0m             \u001b[0;32mraise\u001b[0m \u001b[0mRuntimeError\u001b[0m\u001b[0;34m(\u001b[0m\u001b[0;34m'Event loop stopped before Future completed.'\u001b[0m\u001b[0;34m)\u001b[0m\u001b[0;34m\u001b[0m\u001b[0m\n\u001b[1;32m    466\u001b[0m \u001b[0;34m\u001b[0m\u001b[0m\n\u001b[0;32m--> 467\u001b[0;31m         \u001b[0;32mreturn\u001b[0m \u001b[0mfuture\u001b[0m\u001b[0;34m.\u001b[0m\u001b[0mresult\u001b[0m\u001b[0;34m(\u001b[0m\u001b[0;34m)\u001b[0m\u001b[0;34m\u001b[0m\u001b[0m\n\u001b[0m\u001b[1;32m    468\u001b[0m \u001b[0;34m\u001b[0m\u001b[0m\n\u001b[1;32m    469\u001b[0m     \u001b[0;32mdef\u001b[0m \u001b[0mstop\u001b[0m\u001b[0;34m(\u001b[0m\u001b[0mself\u001b[0m\u001b[0;34m)\u001b[0m\u001b[0;34m:\u001b[0m\u001b[0;34m\u001b[0m\u001b[0m\n",
      "\u001b[0;32m<ipython-input-11-5a324fa5a36c>\u001b[0m in \u001b[0;36mfail\u001b[0;34m()\u001b[0m\n\u001b[1;32m      1\u001b[0m \u001b[0;34masync\u001b[0m \u001b[0;32mdef\u001b[0m \u001b[0mfail\u001b[0m\u001b[0;34m(\u001b[0m\u001b[0;34m)\u001b[0m\u001b[0;34m:\u001b[0m\u001b[0;34m\u001b[0m\u001b[0m\n\u001b[0;32m----> 2\u001b[0;31m     \u001b[0mawait\u001b[0m \u001b[0maprint\u001b[0m\u001b[0;34m\u001b[0m\u001b[0m\n\u001b[0m\u001b[1;32m      3\u001b[0m \u001b[0;34m\u001b[0m\u001b[0m\n\u001b[1;32m      4\u001b[0m \u001b[0mloop\u001b[0m\u001b[0;34m.\u001b[0m\u001b[0mrun_until_complete\u001b[0m\u001b[0;34m(\u001b[0m\u001b[0mfail\u001b[0m\u001b[0;34m(\u001b[0m\u001b[0;34m)\u001b[0m\u001b[0;34m)\u001b[0m\u001b[0;34m\u001b[0m\u001b[0m\n",
      "\u001b[0;31mTypeError\u001b[0m: object function can't be used in 'await' expression"
     ]
    }
   ],
   "source": [
    "async def fail():\n",
    "    await aprint\n",
    "    \n",
    "loop.run_until_complete(fail())"
   ]
  },
  {
   "cell_type": "markdown",
   "metadata": {},
   "source": [
    "## Async for-loop"
   ]
  },
  {
   "cell_type": "markdown",
   "metadata": {},
   "source": [
    "Prepare a simple MongoDB collection to show this feature."
   ]
  },
  {
   "cell_type": "code",
   "execution_count": 12,
   "metadata": {},
   "outputs": [
    {
     "data": {
      "text/plain": [
       "[ObjectId('59e7bd275a58ce05921ce279'),\n",
       " ObjectId('59e7bd275a58ce05921ce27a'),\n",
       " ObjectId('59e7bd275a58ce05921ce27b'),\n",
       " ObjectId('59e7bd275a58ce05921ce27c'),\n",
       " ObjectId('59e7bd275a58ce05921ce27d'),\n",
       " ObjectId('59e7bd275a58ce05921ce27e'),\n",
       " ObjectId('59e7bd275a58ce05921ce27f'),\n",
       " ObjectId('59e7bd275a58ce05921ce280'),\n",
       " ObjectId('59e7bd275a58ce05921ce281'),\n",
       " ObjectId('59e7bd275a58ce05921ce282')]"
      ]
     },
     "execution_count": 12,
     "metadata": {},
     "output_type": "execute_result"
    }
   ],
   "source": [
    "from motor.motor_asyncio import AsyncIOMotorClient\n",
    "\n",
    "collection = AsyncIOMotorClient().aiotest.test\n",
    "loop.run_until_complete(collection.insert({'value': i} for i in range(10)))"
   ]
  },
  {
   "cell_type": "markdown",
   "metadata": {},
   "source": [
    "The async for-loop saves us the boilerplate code to await each next value. Note that it runs sequentially (i.e., the elements are fetched after each other)."
   ]
  },
  {
   "cell_type": "code",
   "execution_count": 13,
   "metadata": {
    "scrolled": true
   },
   "outputs": [
    {
     "name": "stdout",
     "output_type": "stream",
     "text": [
      "{'_id': ObjectId('59e7bd275a58ce05921ce279'), 'value': 0}\n",
      "{'_id': ObjectId('59e7bd275a58ce05921ce27a'), 'value': 1}\n",
      "{'_id': ObjectId('59e7bd275a58ce05921ce27b'), 'value': 2}\n",
      "{'_id': ObjectId('59e7bd275a58ce05921ce27c'), 'value': 3}\n",
      "{'_id': ObjectId('59e7bd275a58ce05921ce27d'), 'value': 4}\n",
      "{'_id': ObjectId('59e7bd275a58ce05921ce27e'), 'value': 5}\n",
      "{'_id': ObjectId('59e7bd275a58ce05921ce27f'), 'value': 6}\n",
      "{'_id': ObjectId('59e7bd275a58ce05921ce280'), 'value': 7}\n",
      "{'_id': ObjectId('59e7bd275a58ce05921ce281'), 'value': 8}\n",
      "{'_id': ObjectId('59e7bd275a58ce05921ce282'), 'value': 9}\n"
     ]
    }
   ],
   "source": [
    "async def f():\n",
    "    async for doc in collection.find():\n",
    "        print(doc)\n",
    "        \n",
    "loop.run_until_complete(f())"
   ]
  },
  {
   "cell_type": "code",
   "execution_count": 14,
   "metadata": {},
   "outputs": [],
   "source": [
    "loop.run_until_complete(collection.drop())"
   ]
  },
  {
   "cell_type": "markdown",
   "metadata": {},
   "source": [
    "## Async Context Manager"
   ]
  },
  {
   "cell_type": "code",
   "execution_count": 15,
   "metadata": {},
   "outputs": [
    {
     "name": "stdout",
     "output_type": "stream",
     "text": [
      "entering context\n",
      "Hello World!\n",
      "exiting context\n"
     ]
    }
   ],
   "source": [
    "class AsyncContextManager:\n",
    "    async def __aenter__(self):\n",
    "        await aprint('entering context')\n",
    "\n",
    "    async def __aexit__(self, exc_type, exc, tb):\n",
    "        await aprint('exiting context')\n",
    "\n",
    "async def use_async_context():\n",
    "    async with AsyncContextManager():\n",
    "        print('Hello World!')\n",
    "        \n",
    "loop.run_until_complete(use_async_context())"
   ]
  },
  {
   "cell_type": "markdown",
   "metadata": {},
   "source": [
    "One example is using locks (even though this doesn't require async exiting)."
   ]
  },
  {
   "cell_type": "code",
   "execution_count": 16,
   "metadata": {},
   "outputs": [
    {
     "name": "stdout",
     "output_type": "stream",
     "text": [
      "one after the other...\n",
      "one after the other...\n"
     ]
    },
    {
     "data": {
      "text/plain": [
       "[None, None]"
      ]
     },
     "execution_count": 16,
     "metadata": {},
     "output_type": "execute_result"
    }
   ],
   "source": [
    "lock = asyncio.Lock()\n",
    "\n",
    "async def use_lock():\n",
    "    async with lock:\n",
    "        await asyncio.sleep(1)\n",
    "        print('one after the other...')\n",
    "\n",
    "tasks = asyncio.gather(use_lock(), use_lock())\n",
    "loop.run_until_complete(tasks)"
   ]
  },
  {
   "cell_type": "markdown",
   "metadata": {},
   "source": [
    "Note that this took two seconds instead of one."
   ]
  }
 ],
 "metadata": {
  "kernelspec": {
   "display_name": "Python 3",
   "language": "python",
   "name": "python3"
  },
  "language_info": {
   "codemirror_mode": {
    "name": "ipython",
    "version": 3
   },
   "file_extension": ".py",
   "mimetype": "text/x-python",
   "name": "python",
   "nbconvert_exporter": "python",
   "pygments_lexer": "ipython3",
   "version": "3.6.2"
  }
 },
 "nbformat": 4,
 "nbformat_minor": 1
}
