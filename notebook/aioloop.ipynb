{
 "cells": [
  {
   "cell_type": "markdown",
   "metadata": {},
   "source": [
    "# Simple I/O Loop Examples"
   ]
  },
  {
   "cell_type": "markdown",
   "metadata": {},
   "source": [
    "Create an event loop (which automatically becomes the default event loop in the context)."
   ]
  },
  {
   "cell_type": "code",
   "execution_count": 1,
   "metadata": {
    "collapsed": false
   },
   "outputs": [],
   "source": [
    "import asyncio\n",
    "loop = asyncio.get_event_loop()"
   ]
  },
  {
   "cell_type": "markdown",
   "metadata": {},
   "source": [
    "Run a simple callback as soon as possible:"
   ]
  },
  {
   "cell_type": "code",
   "execution_count": 2,
   "metadata": {
    "collapsed": false
   },
   "outputs": [
    {
     "name": "stdout",
     "output_type": "stream",
     "text": [
      "Hello World!\n"
     ]
    }
   ],
   "source": [
    "def hello_world():\n",
    "    print('Hello World!')\n",
    "    loop.stop()\n",
    "\n",
    "loop.call_soon(hello_world)\n",
    "loop.run_forever()"
   ]
  },
  {
   "cell_type": "markdown",
   "metadata": {},
   "source": [
    "Coroutines can be scheduled in the eventloop (internally they are wrapped in a `Task`).\n",
    "\n",
    "The decorator is not necessary, but has several advantages:\n",
    "* documents that this is a coroutine (instead of scanning the code for `yield`)\n",
    "* provides some debugging magic, to detect unscheduled coroutines"
   ]
  },
  {
   "cell_type": "code",
   "execution_count": 3,
   "metadata": {
    "collapsed": false
   },
   "outputs": [
    {
     "name": "stdout",
     "output_type": "stream",
     "text": [
      "Hello World!\n"
     ]
    }
   ],
   "source": [
    "@asyncio.coroutine\n",
    "def hello_world():\n",
    "    yield from asyncio.sleep(1.0)\n",
    "    print('Hello World!')\n",
    "\n",
    "loop.run_until_complete(hello_world())"
   ]
  },
  {
   "cell_type": "markdown",
   "metadata": {},
   "source": [
    "Interconnect a `Future` and a coroutine, and wrap a courotine in a `Task` (a subclass of Future)."
   ]
  },
  {
   "cell_type": "code",
   "execution_count": 4,
   "metadata": {
    "collapsed": false
   },
   "outputs": [
    {
     "name": "stdout",
     "output_type": "stream",
     "text": [
      "Future is done!\n"
     ]
    }
   ],
   "source": [
    "@asyncio.coroutine\n",
    "def slow_operation(future):\n",
    "    yield from asyncio.sleep(1)\n",
    "    future.set_result('Future is done!')\n",
    "\n",
    "def got_result(future):\n",
    "    print(future.result())\n",
    "    loop.stop()\n",
    "    \n",
    "future = asyncio.Future()\n",
    "future.add_done_callback(got_result)\n",
    "\n",
    "# wrap the coro in a special Future (a Task) and schedule it\n",
    "loop.create_task(slow_operation(future))\n",
    "# or use\n",
    "# asyncio.async(slow_operation(future))\n",
    "\n",
    "loop.run_forever()"
   ]
  },
  {
   "cell_type": "markdown",
   "metadata": {},
   "source": [
    "Futures implement the coroutine interface, so they can be yielded from (`yield from` actually calls `__iter__` before the iteration)."
   ]
  },
  {
   "cell_type": "code",
   "execution_count": 5,
   "metadata": {
    "collapsed": false
   },
   "outputs": [
    {
     "name": "stdout",
     "output_type": "stream",
     "text": [
      "True\n"
     ]
    }
   ],
   "source": [
    "future = asyncio.Future()\n",
    "print(hasattr(future, '__iter__'))"
   ]
  },
  {
   "cell_type": "markdown",
   "metadata": {},
   "source": [
    "Internally the asyncio event loop works with `Handle` instances, which wrap callbacks. The `Task` class is used to schedule / step through courotines (via its `_step` method and using `call_soon`)."
   ]
  }
 ],
 "metadata": {
  "kernelspec": {
   "display_name": "Python 3",
   "language": "python",
   "name": "python3"
  },
  "language_info": {
   "codemirror_mode": {
    "name": "ipython",
    "version": 3
   },
   "file_extension": ".py",
   "mimetype": "text/x-python",
   "name": "python",
   "nbconvert_exporter": "python",
   "pygments_lexer": "ipython3",
   "version": "3.4.3"
  }
 },
 "nbformat": 4,
 "nbformat_minor": 0
}
