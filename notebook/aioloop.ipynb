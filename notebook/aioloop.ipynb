{
 "worksheets": [
  {
   "cells": [
    {
     "cell_type": "heading",
     "metadata": {},
     "level": 1,
     "source": [
      "Simple I/O Loop Examples"
     ]
    },
    {
     "cell_type": "markdown",
     "metadata": {},
     "source": [
      "Create an event loop (which automatically becomes the default event loop in the context)."
     ]
    },
    {
     "cell_type": "code",
     "metadata": {},
     "outputs": [],
     "input": [
      "import asyncio\n",
      "loop = asyncio.get_event_loop()"
     ],
     "language": "python",
     "prompt_number": 1
    },
    {
     "cell_type": "markdown",
     "metadata": {},
     "source": [
      "Run a simple callback as soon as possible:"
     ]
    },
    {
     "cell_type": "code",
     "metadata": {},
     "outputs": [
      {
       "output_type": "stream",
       "stream": "stdout",
       "text": [
        "Hello World!\n"
       ]
      }
     ],
     "input": [
      "def hello_world():\n",
      "    print('Hello World!')\n",
      "    loop.stop()\n",
      "\n",
      "loop.call_soon(hello_world)\n",
      "loop.run_forever()"
     ],
     "language": "python",
     "prompt_number": 11
    },
    {
     "cell_type": "markdown",
     "metadata": {},
     "source": [
      "Coroutines can be scheduled in the eventloop (internally they are wrapped in a `Task`).\n",
      "\n",
      "The decorator is not necessary, but has several advantages:\n",
      "* documents that this is a coroutine (instead of scanning the code for `yield`)\n",
      "* provides some debugging magic, to detect unscheduled coroutines"
     ]
    },
    {
     "cell_type": "code",
     "metadata": {},
     "outputs": [
      {
       "output_type": "stream",
       "stream": "stdout",
       "text": [
        "Hello World!\n"
       ]
      }
     ],
     "input": [
      "@asyncio.coroutine\n",
      "def hello_world():\n",
      "    yield from asyncio.sleep(1.0)\n",
      "    print('Hello World!')\n",
      "\n",
      "loop.run_until_complete(hello_world())"
     ],
     "language": "python",
     "prompt_number": 3
    },
    {
     "cell_type": "markdown",
     "metadata": {},
     "source": [
      "Interconnect a `Future` and a coroutine, and wrap a courotine in a `Task` (a subclass of Future)."
     ]
    },
    {
     "cell_type": "code",
     "metadata": {},
     "outputs": [
      {
       "output_type": "stream",
       "stream": "stdout",
       "text": [
        "Future is done!\n"
       ]
      }
     ],
     "input": [
      "@asyncio.coroutine\n",
      "def slow_operation(future):\n",
      "    yield from asyncio.sleep(1)\n",
      "    future.set_result('Future is done!')\n",
      "\n",
      "def got_result(future):\n",
      "    print(future.result())\n",
      "    loop.stop()\n",
      "    \n",
      "future = asyncio.Future()\n",
      "future.add_done_callback(got_result)\n",
      "\n",
      "# wrap the coro in a special Future (a Task) and schedule it\n",
      "loop.create_task(slow_operation(future))\n",
      "# or use\n",
      "# asyncio.async(slow_operation(future))\n",
      "\n",
      "loop.run_forever()"
     ],
     "language": "python",
     "prompt_number": 6
    },
    {
     "cell_type": "markdown",
     "metadata": {},
     "source": [
      "Futures implement the coroutine interface, so they can be yielded from (`yield from` actually calls `__iter__` before the iteration)."
     ]
    },
    {
     "cell_type": "code",
     "metadata": {},
     "outputs": [
      {
       "output_type": "stream",
       "stream": "stdout",
       "text": [
        "True\n"
       ]
      }
     ],
     "input": [
      "future = asyncio.Future()\n",
      "print(hasattr(future, '__iter__'))"
     ],
     "language": "python",
     "prompt_number": 10
    },
    {
     "cell_type": "markdown",
     "metadata": {},
     "source": [
      "Internally the asyncio event loop works with `Handle` instances, which wrap callbacks. The `Task` class is used to schedule / step through courotines (via its `_step` method and using `call_soon`)."
     ]
    }
   ]
  }
 ],
 "cells": [],
 "metadata": {
  "name": "",
  "signature": "sha256:f1505e8ab76702ee9810e1b588ae692fcc0ec5e61de76f34d1ff90f26c7286d4"
 },
 "nbformat": 3,
 "nbformat_minor": 0
}