{
 "metadata": {
  "name": "",
  "signature": "sha256:65d232b005abcbb27f805f1c7c9752a12770e097a011c5b82c1766cadb67722e"
 },
 "nbformat": 3,
 "nbformat_minor": 0,
 "worksheets": [
  {
   "cells": [
    {
     "cell_type": "heading",
     "level": 2,
     "metadata": {},
     "source": [
      "Generator Basics in Python"
     ]
    },
    {
     "cell_type": "markdown",
     "metadata": {},
     "source": [
      "Every function that contains a `yield` keyword is a *generator function*. A generator function returns a generator object, which is a special case of an iterator (i.e., an object with a `__next__` method and an `__iter__` method that returns self)."
     ]
    },
    {
     "cell_type": "code",
     "collapsed": false,
     "input": [
      "def test():\n",
      "    yield 1\n",
      "    yield 2\n",
      "    \n",
      "print(test)\n",
      "print(test())\n",
      "\n",
      "for i in test():\n",
      "    print(i)"
     ],
     "language": "python",
     "metadata": {},
     "outputs": [
      {
       "output_type": "stream",
       "stream": "stdout",
       "text": [
        "<function test at 0x10c3e3268>\n",
        "<generator object test at 0x10c3d3750>\n",
        "1\n",
        "2\n"
       ]
      }
     ],
     "prompt_number": 1
    },
    {
     "cell_type": "markdown",
     "metadata": {},
     "source": [
      "You can also directly use the iterator API."
     ]
    },
    {
     "cell_type": "code",
     "collapsed": false,
     "input": [
      "t = test()\n",
      "try:\n",
      "    while True:\n",
      "        print(next(t))\n",
      "except StopIteration:\n",
      "    print('done')"
     ],
     "language": "python",
     "metadata": {},
     "outputs": [
      {
       "output_type": "stream",
       "stream": "stdout",
       "text": [
        "1\n",
        "2\n",
        "done\n"
       ]
      }
     ],
     "prompt_number": 2
    },
    {
     "cell_type": "heading",
     "level": 2,
     "metadata": {},
     "source": [
      "Generators as Coroutines"
     ]
    },
    {
     "cell_type": "markdown",
     "metadata": {},
     "source": [
      "Python 2.5 added the ability to not only get data from a generator, but also to send data to it. `yield` turned from a statement into an expression. Functions that use this feature are called *coroutines*."
     ]
    },
    {
     "cell_type": "code",
     "collapsed": false,
     "input": [
      "def test():\n",
      "    x = yield 1\n",
      "    yield x**2\n",
      "    \n",
      "t = test()\n",
      "print(next(t))  # go to the first yield\n",
      "print(t.send(3))"
     ],
     "language": "python",
     "metadata": {},
     "outputs": [
      {
       "output_type": "stream",
       "stream": "stdout",
       "text": [
        "1\n",
        "9\n"
       ]
      }
     ],
     "prompt_number": 3
    },
    {
     "cell_type": "markdown",
     "metadata": {},
     "source": [
      "Note that `next(t)` is equivalent to `t.send(None)`."
     ]
    },
    {
     "cell_type": "markdown",
     "metadata": {},
     "source": [
      "Forwarding an iterator is easy:"
     ]
    },
    {
     "cell_type": "code",
     "collapsed": false,
     "input": [
      "def test():\n",
      "    yield 1\n",
      "    yield 2\n",
      "    \n",
      "def wrapper():\n",
      "    for i in test():\n",
      "        yield i\n",
      "        \n",
      "for i in wrapper():\n",
      "    print(i)"
     ],
     "language": "python",
     "metadata": {},
     "outputs": [
      {
       "output_type": "stream",
       "stream": "stdout",
       "text": [
        "1\n",
        "2\n"
       ]
      }
     ],
     "prompt_number": 4
    },
    {
     "cell_type": "markdown",
     "metadata": {},
     "source": [
      "Doing the same with a coroutine on the other hand is quite hard (see [PEP 380](http://legacy.python.org/dev/peps/pep-0380/)), so Python 3.3 introduced `yield from`."
     ]
    },
    {
     "cell_type": "code",
     "collapsed": false,
     "input": [
      "def test():\n",
      "    x = yield 1\n",
      "    yield x**2\n",
      "    \n",
      "def wrapper():\n",
      "    yield from test()\n",
      "    \n",
      "w = wrapper()\n",
      "print(next(w))\n",
      "print(w.send(3))"
     ],
     "language": "python",
     "metadata": {},
     "outputs": [
      {
       "output_type": "stream",
       "stream": "stdout",
       "text": [
        "1\n",
        "9\n"
       ]
      }
     ],
     "prompt_number": 5
    },
    {
     "cell_type": "markdown",
     "metadata": {},
     "source": [
      "The same PEP also introduced return statements in coroutines, to transport a return value via `StopIteration`. The `yield from` expression then evaluates to this value."
     ]
    },
    {
     "cell_type": "code",
     "collapsed": false,
     "input": [
      "@gen.coroutine\n",
      "def test():\n",
      "    x = yield 1\n",
      "    yield x**2\n",
      "    return x**3\n",
      "    \n",
      "def wrapper():\n",
      "    y = yield test()\n",
      "    print(y)\n",
      "    return y * 2\n",
      "    \n",
      "w = wrapper()\n",
      "print(next(w))\n",
      "print(w.send(3))\n",
      "next(w)"
     ],
     "language": "python",
     "metadata": {},
     "outputs": [
      {
       "ename": "NameError",
       "evalue": "name 'gen' is not defined",
       "output_type": "pyerr",
       "traceback": [
        "\u001b[0;31m---------------------------------------------------------------------------\u001b[0m\n\u001b[0;31mNameError\u001b[0m                                 Traceback (most recent call last)",
        "\u001b[0;32m<ipython-input-19-fddd5d42c554>\u001b[0m in \u001b[0;36m<module>\u001b[0;34m()\u001b[0m\n\u001b[0;32m----> 1\u001b[0;31m \u001b[0;34m@\u001b[0m\u001b[0mgen\u001b[0m\u001b[0;34m.\u001b[0m\u001b[0mcoroutine\u001b[0m\u001b[0;34m\u001b[0m\u001b[0m\n\u001b[0m\u001b[1;32m      2\u001b[0m \u001b[0;32mdef\u001b[0m \u001b[0mtest\u001b[0m\u001b[0;34m(\u001b[0m\u001b[0;34m)\u001b[0m\u001b[0;34m:\u001b[0m\u001b[0;34m\u001b[0m\u001b[0m\n\u001b[1;32m      3\u001b[0m     \u001b[0mx\u001b[0m \u001b[0;34m=\u001b[0m \u001b[0;32myield\u001b[0m \u001b[0;36m1\u001b[0m\u001b[0;34m\u001b[0m\u001b[0m\n\u001b[1;32m      4\u001b[0m     \u001b[0;32myield\u001b[0m \u001b[0mx\u001b[0m\u001b[0;34m**\u001b[0m\u001b[0;36m2\u001b[0m\u001b[0;34m\u001b[0m\u001b[0m\n\u001b[1;32m      5\u001b[0m     \u001b[0;32mreturn\u001b[0m \u001b[0mx\u001b[0m\u001b[0;34m**\u001b[0m\u001b[0;36m3\u001b[0m\u001b[0;34m\u001b[0m\u001b[0m\n",
        "\u001b[0;31mNameError\u001b[0m: name 'gen' is not defined"
       ]
      }
     ],
     "prompt_number": 19
    },
    {
     "cell_type": "code",
     "collapsed": false,
     "input": [
      "def test():\n",
      "    for i in range(3):\n",
      "        yield i\n",
      "    return 'done'\n",
      "\n",
      "for i in test():\n",
      "    print(i)"
     ],
     "language": "python",
     "metadata": {},
     "outputs": [
      {
       "output_type": "stream",
       "stream": "stdout",
       "text": [
        "0\n",
        "1\n",
        "2\n"
       ]
      }
     ],
     "prompt_number": 7
    },
    {
     "cell_type": "code",
     "collapsed": false,
     "input": [
      "t = test()\n",
      "try:\n",
      "    while True:\n",
      "        print(next(t))\n",
      "except StopIteration as e:\n",
      "    print(e)"
     ],
     "language": "python",
     "metadata": {},
     "outputs": [
      {
       "output_type": "stream",
       "stream": "stdout",
       "text": [
        "0\n",
        "1\n",
        "2\n",
        "done\n"
       ]
      }
     ],
     "prompt_number": 8
    },
    {
     "cell_type": "heading",
     "level": 2,
     "metadata": {},
     "source": [
      "Yield and List Comprehensions (or Generator Expressions)"
     ]
    },
    {
     "cell_type": "markdown",
     "metadata": {},
     "source": [
      "In older versions of Python the variables in list comprehensions would leak out. In Python 3 this is no longer the case:"
     ]
    },
    {
     "cell_type": "code",
     "collapsed": false,
     "input": [
      "[xy for xy in range(3)]\n",
      "xy"
     ],
     "language": "python",
     "metadata": {},
     "outputs": [
      {
       "ename": "NameError",
       "evalue": "name 'xy' is not defined",
       "output_type": "pyerr",
       "traceback": [
        "\u001b[0;31m---------------------------------------------------------------------------\u001b[0m\n\u001b[0;31mNameError\u001b[0m                                 Traceback (most recent call last)",
        "\u001b[0;32m<ipython-input-9-cbb0562a8cb4>\u001b[0m in \u001b[0;36m<module>\u001b[0;34m()\u001b[0m\n\u001b[1;32m      1\u001b[0m \u001b[0;34m[\u001b[0m\u001b[0mxy\u001b[0m \u001b[0;32mfor\u001b[0m \u001b[0mxy\u001b[0m \u001b[0;32min\u001b[0m \u001b[0mrange\u001b[0m\u001b[0;34m(\u001b[0m\u001b[0;36m3\u001b[0m\u001b[0;34m)\u001b[0m\u001b[0;34m]\u001b[0m\u001b[0;34m\u001b[0m\u001b[0m\n\u001b[0;32m----> 2\u001b[0;31m \u001b[0mxy\u001b[0m\u001b[0;34m\u001b[0m\u001b[0m\n\u001b[0m",
        "\u001b[0;31mNameError\u001b[0m: name 'xy' is not defined"
       ]
      }
     ],
     "prompt_number": 9
    },
    {
     "cell_type": "markdown",
     "metadata": {},
     "source": [
      "List comprehensions now have their own execution context, just like functions and generator expressions."
     ]
    },
    {
     "cell_type": "code",
     "collapsed": false,
     "input": [
      "(xy for xy in range(3))\n",
      "xy"
     ],
     "language": "python",
     "metadata": {},
     "outputs": [
      {
       "ename": "NameError",
       "evalue": "name 'xy' is not defined",
       "output_type": "pyerr",
       "traceback": [
        "\u001b[0;31m---------------------------------------------------------------------------\u001b[0m\n\u001b[0;31mNameError\u001b[0m                                 Traceback (most recent call last)",
        "\u001b[0;32m<ipython-input-10-b71fcbdacfb2>\u001b[0m in \u001b[0;36m<module>\u001b[0;34m()\u001b[0m\n\u001b[1;32m      1\u001b[0m \u001b[0;34m(\u001b[0m\u001b[0mxy\u001b[0m \u001b[0;32mfor\u001b[0m \u001b[0mxy\u001b[0m \u001b[0;32min\u001b[0m \u001b[0mrange\u001b[0m\u001b[0;34m(\u001b[0m\u001b[0;36m3\u001b[0m\u001b[0;34m)\u001b[0m\u001b[0;34m)\u001b[0m\u001b[0;34m\u001b[0m\u001b[0m\n\u001b[0;32m----> 2\u001b[0;31m \u001b[0mxy\u001b[0m\u001b[0;34m\u001b[0m\u001b[0m\n\u001b[0m",
        "\u001b[0;31mNameError\u001b[0m: name 'xy' is not defined"
       ]
      }
     ],
     "prompt_number": 10
    },
    {
     "cell_type": "markdown",
     "metadata": {},
     "source": [
      "A side effect of this is that a `yield` statement in a list comprehension causes it to evaluate to a generator object."
     ]
    },
    {
     "cell_type": "code",
     "collapsed": false,
     "input": [
      "[i for i in range(3) if (yield i)]"
     ],
     "language": "python",
     "metadata": {},
     "outputs": [
      {
       "metadata": {},
       "output_type": "pyout",
       "prompt_number": 11,
       "text": [
        "<generator object <listcomp> at 0x10a0866c0>"
       ]
      }
     ],
     "prompt_number": 11
    },
    {
     "cell_type": "markdown",
     "metadata": {},
     "source": [
      "This can be surprising at first."
     ]
    },
    {
     "cell_type": "code",
     "collapsed": false,
     "input": [
      "set([i**2 for i in range(3) if (yield i)])"
     ],
     "language": "python",
     "metadata": {},
     "outputs": [
      {
       "metadata": {},
       "output_type": "pyout",
       "prompt_number": 12,
       "text": [
        "{0, 1, 2}"
       ]
      }
     ],
     "prompt_number": 12
    },
    {
     "cell_type": "code",
     "collapsed": false,
     "input": [
      "set([(yield i**2) for i in range(3)])"
     ],
     "language": "python",
     "metadata": {},
     "outputs": [
      {
       "metadata": {},
       "output_type": "pyout",
       "prompt_number": 13,
       "text": [
        "{0, 1, 4}"
       ]
      }
     ],
     "prompt_number": 13
    },
    {
     "cell_type": "markdown",
     "metadata": {},
     "source": [
      "Generator expressions have always behaved in this way (since they are executed lazily they always had to store their context)."
     ]
    },
    {
     "cell_type": "code",
     "collapsed": false,
     "input": [
      "set(i**2 for i in range(3) if (yield i))"
     ],
     "language": "python",
     "metadata": {},
     "outputs": [
      {
       "metadata": {},
       "output_type": "pyout",
       "prompt_number": 14,
       "text": [
        "{0, 1, 2}"
       ]
      }
     ],
     "prompt_number": 14
    },
    {
     "cell_type": "markdown",
     "metadata": {},
     "source": [
      "Set and Dict comprehensions of course act like just list comprehensions."
     ]
    },
    {
     "cell_type": "code",
     "collapsed": false,
     "input": [
      "{i**2 for i in range(3) if (yield i)}"
     ],
     "language": "python",
     "metadata": {},
     "outputs": [
      {
       "metadata": {},
       "output_type": "pyout",
       "prompt_number": 15,
       "text": [
        "<generator object <setcomp> at 0x10a0f7288>"
       ]
      }
     ],
     "prompt_number": 15
    },
    {
     "cell_type": "code",
     "collapsed": false,
     "input": [
      "{i: i**2 for i in range(3) if (yield i)}"
     ],
     "language": "python",
     "metadata": {},
     "outputs": [
      {
       "metadata": {},
       "output_type": "pyout",
       "prompt_number": 16,
       "text": [
        "<generator object <dictcomp> at 0x10a0f73a8>"
       ]
      }
     ],
     "prompt_number": 16
    },
    {
     "cell_type": "heading",
     "level": 2,
     "metadata": {},
     "source": [
      "Beware of `StopIteration`"
     ]
    },
    {
     "cell_type": "markdown",
     "metadata": {},
     "source": [
      "A generator can be exited explicity by raising `StopIteration`. Unfortunately it doesn't matter from where this is raised. It might come from another iteration inside a nested function that is not caught properly."
     ]
    },
    {
     "cell_type": "code",
     "collapsed": false,
     "input": [
      "import unittest.mock as mock\n",
      "m = mock.Mock(side_effect=[1, 2])\n",
      "\n",
      "def test():\n",
      "    yield m()\n",
      "    yield m()\n",
      "    yield m()\n",
      "\n",
      "for i in test():\n",
      "    print(i)"
     ],
     "language": "python",
     "metadata": {},
     "outputs": [
      {
       "output_type": "stream",
       "stream": "stdout",
       "text": [
        "1\n",
        "2\n"
       ]
      }
     ],
     "prompt_number": 17
    },
    {
     "cell_type": "markdown",
     "metadata": {},
     "source": [
      "So a simple error in setting up your mocks can silently cause an unexpected abortion in your asynchronois test code!"
     ]
    },
    {
     "cell_type": "heading",
     "level": 2,
     "metadata": {},
     "source": [
      "`GeneratorExit`, `close` and `throw`"
     ]
    },
    {
     "cell_type": "markdown",
     "metadata": {},
     "source": [
      "As a counterpart to `StopIteration` you can signal a generator from the outside that it should finish. This is done by calling `close()` on the generator, which will raise a `GeneratorExit` exception."
     ]
    },
    {
     "cell_type": "code",
     "collapsed": false,
     "input": [
      "def test():\n",
      "    try:\n",
      "        i = 1\n",
      "        while True:\n",
      "            yield i\n",
      "            i += 1\n",
      "    except GeneratorExit:\n",
      "        print('done')\n",
      "    print('bye')\n",
      "    \n",
      "t = test()\n",
      "print(next(t))\n",
      "print(next(t))\n",
      "t.close()\n",
      "try:\n",
      "    print(next(t))\n",
      "except StopIteration:\n",
      "    print('no more values')"
     ],
     "language": "python",
     "metadata": {},
     "outputs": [
      {
       "output_type": "stream",
       "stream": "stdout",
       "text": [
        "1\n",
        "2\n",
        "done\n",
        "bye\n",
        "no more values\n"
       ]
      }
     ],
     "prompt_number": 11
    },
    {
     "cell_type": "markdown",
     "metadata": {},
     "source": [
      "Catching the `GeneratorExit` is not really necessary here. But if the generator has any resources that need cleanup then one can use a `try ... finally` or a context manager to perform this. "
     ]
    },
    {
     "cell_type": "code",
     "collapsed": false,
     "input": [
      "def test():\n",
      "    i = 1\n",
      "    while True:\n",
      "        yield i\n",
      "        i += 1\n",
      "    \n",
      "t = test()\n",
      "print(next(t))\n",
      "print(next(t))\n",
      "t.close()\n",
      "try:\n",
      "    print(next(t))\n",
      "except StopIteration:\n",
      "    print('no more values')"
     ],
     "language": "python",
     "metadata": {},
     "outputs": [
      {
       "output_type": "stream",
       "stream": "stdout",
       "text": [
        "1\n",
        "2\n",
        "no more values\n"
       ]
      }
     ],
     "prompt_number": 21
    },
    {
     "cell_type": "markdown",
     "metadata": {},
     "source": [
      "Yielding values after the exception was raised is not supported."
     ]
    },
    {
     "cell_type": "code",
     "collapsed": false,
     "input": [
      "def test():\n",
      "    try:\n",
      "        i = 1\n",
      "        while True:\n",
      "            yield i\n",
      "            i += 1\n",
      "    except GeneratorExit:\n",
      "        print('done')\n",
      "    yield 'just one more value'\n",
      "        \n",
      "    \n",
      "t = test()\n",
      "print(next(t))\n",
      "print(next(t))\n",
      "t.close()"
     ],
     "language": "python",
     "metadata": {},
     "outputs": [
      {
       "output_type": "stream",
       "stream": "stdout",
       "text": [
        "1\n",
        "2\n",
        "done\n"
       ]
      },
      {
       "ename": "RuntimeError",
       "evalue": "generator ignored GeneratorExit",
       "output_type": "pyerr",
       "traceback": [
        "\u001b[0;31m---------------------------------------------------------------------------\u001b[0m\n\u001b[0;31mRuntimeError\u001b[0m                              Traceback (most recent call last)",
        "\u001b[0;32m<ipython-input-23-059928dd7e89>\u001b[0m in \u001b[0;36m<module>\u001b[0;34m()\u001b[0m\n\u001b[1;32m     13\u001b[0m \u001b[0mprint\u001b[0m\u001b[0;34m(\u001b[0m\u001b[0mnext\u001b[0m\u001b[0;34m(\u001b[0m\u001b[0mt\u001b[0m\u001b[0;34m)\u001b[0m\u001b[0;34m)\u001b[0m\u001b[0;34m\u001b[0m\u001b[0m\n\u001b[1;32m     14\u001b[0m \u001b[0mprint\u001b[0m\u001b[0;34m(\u001b[0m\u001b[0mnext\u001b[0m\u001b[0;34m(\u001b[0m\u001b[0mt\u001b[0m\u001b[0;34m)\u001b[0m\u001b[0;34m)\u001b[0m\u001b[0;34m\u001b[0m\u001b[0m\n\u001b[0;32m---> 15\u001b[0;31m \u001b[0mt\u001b[0m\u001b[0;34m.\u001b[0m\u001b[0mclose\u001b[0m\u001b[0;34m(\u001b[0m\u001b[0;34m)\u001b[0m\u001b[0;34m\u001b[0m\u001b[0m\n\u001b[0m",
        "\u001b[0;31mRuntimeError\u001b[0m: generator ignored GeneratorExit"
       ]
      }
     ],
     "prompt_number": 23
    },
    {
     "cell_type": "markdown",
     "metadata": {},
     "source": [
      "Note that throwing the `GeneratorExit` exception manually does not have the same effect as calling close."
     ]
    },
    {
     "cell_type": "code",
     "collapsed": false,
     "input": [
      "def test():\n",
      "    try:\n",
      "        i = 1\n",
      "        while True:\n",
      "            yield i\n",
      "            i += 1\n",
      "    except GeneratorExit:\n",
      "        print('done')\n",
      "    yield 'one more value'\n",
      "    yield 'and another one'\n",
      "\n",
      "t = test()\n",
      "print(next(t))\n",
      "print(next(t))\n",
      "print(t.throw(GeneratorExit()))\n",
      "print(next(t))"
     ],
     "language": "python",
     "metadata": {},
     "outputs": [
      {
       "output_type": "stream",
       "stream": "stdout",
       "text": [
        "1\n",
        "2\n",
        "done\n",
        "one more value\n",
        "and another one\n"
       ]
      }
     ],
     "prompt_number": 25
    },
    {
     "cell_type": "code",
     "collapsed": false,
     "input": [],
     "language": "python",
     "metadata": {},
     "outputs": []
    }
   ],
   "metadata": {}
  }
 ]
}